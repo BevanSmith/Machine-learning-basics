{
 "cells": [
  {
   "cell_type": "markdown",
   "metadata": {},
   "source": [
    "# The aim of this notebook:  code some basic cross-validation techniques from scratch\n",
    "1. First I will look at Leave-One-Out cross validation and then\n",
    "2. I will look at Leave-P-out cross validation, where the user can specify what sample percentage they would like as the test\n",
    "data"
   ]
  },
  {
   "cell_type": "markdown",
   "metadata": {},
   "source": [
    "##  Import the modules. \n",
    "It is important to import **numpy** and **scipy.optimize**"
   ]
  },
  {
   "cell_type": "code",
   "execution_count": 239,
   "metadata": {},
   "outputs": [],
   "source": [
    "import numpy as np\n",
    "import matplotlib.pyplot as plt\n",
    "import scipy.optimize as opt"
   ]
  },
  {
   "cell_type": "markdown",
   "metadata": {},
   "source": [
    "##  Generate the dummy data set (x range) \n"
   ]
  },
  {
   "cell_type": "code",
   "execution_count": 450,
   "metadata": {
    "scrolled": true
   },
   "outputs": [
    {
     "data": {
      "image/png": "[encoded data removed]",
      "text/plain": [
       "<Figure size 432x288 with 1 Axes>"
      ]
     },
     "metadata": {},
     "output_type": "display_data"
    }
   ],
   "source": [
    "x_range = np.arange(0,100,1)\n",
    "y = x_range +np.random.rand(len(x_range))  ## Here I have added random noise onto the straight line data\n",
    "plt.plot(x_range, y, 'k+')\n",
    "plt.xlabel('Inputs'); plt.ylabel('Target')\n",
    "n = len(x_range)"
   ]
  },
  {
   "cell_type": "code",
   "execution_count": 451,
   "metadata": {},
   "outputs": [],
   "source": [
    "# This first function calculates the mean squared error from the original data set in order to plot a line on the total original\n",
    "#  dataset\n",
    "def mse(B):\n",
    "    me = np.array(B[0]+B[1]*x_range-y)\n",
    "    return np.sum(me**2)\n",
    "\n",
    "# This function calculates the mean squared error of a reduced dataset which will be used in the cross-validation section\n",
    "def mse2(B):\n",
    "    me = np.array(B[0] + B[1]*x_temp - y_temp)\n",
    "    return np.sum(me**2)\n",
    "\n",
    "def mseT(B):\n",
    "    me = np.array(B[0] +B[1]*xTrain - yTrain)\n",
    "    return np.sum(me**2)\n",
    "def mseK(B,X,y):\n",
    "    me = np.array(B[0] +B[1]*X - y)\n",
    "    return np.sum(me**2)/len(X)\n"
   ]
  },
  {
   "cell_type": "markdown",
   "metadata": {},
   "source": [
    "## Next we need to minimize the mse by using opt.minimize\n",
    "Remember that in a basic sense, when trying to fit a line to data points, we are trying to find coefficients of a line that results in a line that best fits the data.  So we are moving through the coefficient SPACE i.e. modifying the coefficents (b0 and b1) in order to find the smallest error between the line and the data points.\n",
    "\n",
    "We use the scipy.optimize.minimize function and you can select various optimizers such as Nelder-Mead."
   ]
  },
  {
   "cell_type": "code",
   "execution_count": 266,
   "metadata": {
    "scrolled": true
   },
   "outputs": [
    {
     "name": "stdout",
     "output_type": "stream",
     "text": [
      " final_simplex: (array([[0.41784066, 1.0089655 ],\n",
      "       [0.41777078, 1.00897425],\n",
      "       [0.41776549, 1.00899197]]), array([0.77135102, 0.77135103, 0.77135104]))\n",
      "           fun: 0.7713510206845702\n",
      "       message: 'Optimization terminated successfully.'\n",
      "          nfev: 72\n",
      "           nit: 36\n",
      "        status: 0\n",
      "       success: True\n",
      "             x: array([0.41784066, 1.0089655 ])\n"
     ]
    }
   ],
   "source": [
    "B = [1,1]\n",
    "estimate = opt.minimize(mse,B, method='Nelder-Mead')\n",
    "print(estimate)"
   ]
  },
  {
   "cell_type": "markdown",
   "metadata": {},
   "source": [
    "## Next we see visually how the line matches the original data"
   ]
  },
  {
   "cell_type": "code",
   "execution_count": 267,
   "metadata": {},
   "outputs": [
    {
     "data": {
      "text/plain": [
       "[<matplotlib.lines.Line2D at 0x9d94b70>]"
      ]
     },
     "execution_count": 267,
     "metadata": {},
     "output_type": "execute_result"
    },
    {
     "data": {
      "image/png": "[encoded data removed]",
      "text/plain": [
       "<Figure size 432x288 with 1 Axes>"
      ]
     },
     "metadata": {},
     "output_type": "display_data"
    }
   ],
   "source": [
    "plt.plot(x_range,estimate['x'][1]*x_range+estimate['x'][0],'b-')\n",
    "plt.plot(x_range, y, 'ko')\n"
   ]
  },
  {
   "cell_type": "markdown",
   "metadata": {},
   "source": [
    "##  Leave one out cross validation\n",
    "With leave one out cross validation, we leave one data point out of the set and then use the remaining data to fit a line.  Then we use the fitted line to predict what the left out data point is and find the error between the predicted value and the actual value.  We then do this for all the points and add up all the errors and then divide by the total data points.  This is the mean squared error = 1/n*(y-ypred)^2.  \n",
    "\n",
    "This allows us to compare different models such as linear regression, non-linear regression, etc. and find which model results in the lowest error."
   ]
  },
  {
   "cell_type": "code",
   "execution_count": 268,
   "metadata": {},
   "outputs": [
    {
     "name": "stdout",
     "output_type": "stream",
     "text": [
      "0.006770151076792287\n"
     ]
    }
   ],
   "source": [
    "valError = []\n",
    "error  = 0\n",
    "for i in range(len(x_range)):\n",
    "    x_temp = np.delete(x_range, i)  # Create a temp x-set by deleting the ith x data point\n",
    "    y_temp = np.delete(y,i)  # create a temp y-data set by deleting the ith y data point\n",
    "    est = opt.minimize(mse2,B, method='Nelder-Mead')  # find the coefficients that minimize the error for the remaining \n",
    "    # data points\n",
    "    pred = est['x'][0] + est['x'][1]*x_range[i]  # fit aline, generate a function with the new coefficients\n",
    "    residual = pred- y[i]  # calculate the residual between the predicted value and the actual y\n",
    "    error = error + residual  # add up each error for every iteration\n",
    "    squaredError  = error**2  # squared error\n",
    "    valError.append(squaredError)\n",
    "MSE = squaredError/(len(x_range))  # calculate the mean of the squared error\n",
    "print(MSE)\n"
   ]
  },
  {
   "cell_type": "markdown",
   "metadata": {},
   "source": [
    "# To improve on the previous code that carried out Leave one out - CV, I developed a function called \" loocv\""
   ]
  },
  {
   "cell_type": "code",
   "execution_count": 460,
   "metadata": {},
   "outputs": [],
   "source": [
    "\n",
    "def loocv(X,y, method):\n",
    "    ''' This function carries out Leave One Out Cross Validation\n",
    "     X: x input range;  \n",
    "     y: target output;\n",
    "     method: optimization technique that would be used in opt.minimize'''\n",
    "    valError = []\n",
    "    error  = 0\n",
    "    for i in range(len(x_range)):\n",
    "        x_temp = np.delete(x_range, i)  # Create a temp x-set by deleting the ith x data point\n",
    "        y_temp = np.delete(y,i)  # create a temp y-data set by deleting the ith y data point\n",
    "        est = opt.minimize(mse2,B, method='BFGS')  # find the coefficients that minimize the error for the remaining \n",
    "        # data points\n",
    "        pred = est['x'][0] + est['x'][1]*x_range[i]  # fit aline, generate a function with the new coefficients\n",
    "        residualSquared = (pred- y[i])**2  # calculate the residual between the predicted value and the actual y\n",
    "        error = error + residualSquared  # add up each error for every iteration\n",
    "    MSE = error/(len(x_range))  # calculate the mean of the squared error\n",
    "    print(MSE)\n"
   ]
  },
  {
   "cell_type": "code",
   "execution_count": 461,
   "metadata": {
    "scrolled": true
   },
   "outputs": [
    {
     "name": "stdout",
     "output_type": "stream",
     "text": [
      "2.8839985420301195\n",
      "2.8839985420301195\n"
     ]
    }
   ],
   "source": [
    "sol1 =loocv(x_range, y, 'Nelder-Mead')\n",
    "sol2 = loocv(x_range, y, 'BFGS')\n"
   ]
  },
  {
   "cell_type": "markdown",
   "metadata": {},
   "source": [
    "##  Train test split is carried out below"
   ]
  },
  {
   "cell_type": "code",
   "execution_count": 271,
   "metadata": {
    "scrolled": true
   },
   "outputs": [],
   "source": [
    "def train_test_split(split, X, y, method):\n",
    "    '''Function called train_test_split.\n",
    "    Split:  what percentage of the data is training?\n",
    "    X:  x data\n",
    "    y: target data\n",
    "    method:  optimization technique'''\n",
    "    p = int((split/100)*len(X))\n",
    "    xTrain = X[0:p]\n",
    "    xTest = X[p:]\n",
    "    yTrain = y[0:p]\n",
    "    yTest = y[p:]\n",
    "    est2 = opt.minimize(mseT, B, method = method)\n",
    "    pred2 = est2['x'][0] + est2['x'][1]*xTest\n",
    "    diff = np.sum((pred2 - yTest)**2)/len(pred2)\n",
    "    return diff, xTrain,xTest,yTrain,yTest"
   ]
  },
  {
   "cell_type": "markdown",
   "metadata": {},
   "source": [
    "# Below I create a list called splitList of values between 10 and 90.\n",
    "This refers to the split percentage.  I loop through this using the train_test_split function and find\n",
    "the percentage that gives the lowest error."
   ]
  },
  {
   "cell_type": "code",
   "execution_count": 272,
   "metadata": {
    "scrolled": true
   },
   "outputs": [
    {
     "name": "stdout",
     "output_type": "stream",
     "text": [
      "0.0533152444729597\n"
     ]
    },
    {
     "data": {
      "image/png": "[encoded data removed]",
      "text/plain": [
       "<Figure size 432x288 with 1 Axes>"
      ]
     },
     "metadata": {},
     "output_type": "display_data"
    }
   ],
   "source": [
    "splitList = np.array([10,20,30,40,50,60,70,80,90])\n",
    "errorList = []\n",
    "for i in splitList:\n",
    "    error,a,b,c,d = train_test_split(i,x_range, y, 'BFGS')\n",
    "    errorList.append(error)\n",
    "    \n",
    "errorList\n",
    "\n",
    "plt.plot(splitList, errorList, 'co')\n",
    "plt.xlabel('Split percentage training data'); plt.ylabel('Test Error ')\n",
    "minError = min(errorList)\n",
    "print(minError)"
   ]
  },
  {
   "cell_type": "markdown",
   "metadata": {},
   "source": [
    "# K-fold cross validation"
   ]
  },
  {
   "cell_type": "code",
   "execution_count": 462,
   "metadata": {
    "scrolled": true
   },
   "outputs": [
    {
     "name": "stdout",
     "output_type": "stream",
     "text": [
      "Length of test data is 10\n"
     ]
    },
    {
     "name": "stderr",
     "output_type": "stream",
     "text": [
      "C:\\Users\\a0025105\\AppData\\Local\\Continuum\\anaconda3\\lib\\site-packages\\ipykernel_launcher.py:13: DeprecationWarning: using a non-integer array as obj in delete will result in an error in the future\n",
      "  del sys.path[0]\n"
     ]
    },
    {
     "data": {
      "text/plain": [
       "0.009525217766182115"
      ]
     },
     "execution_count": 462,
     "metadata": {},
     "output_type": "execute_result"
    }
   ],
   "source": [
    "\n",
    "def kFoldCV(k,method):\n",
    "    B = [1,1]  # starting coefficient values \n",
    "    part = int(len(x_range)/k)  # length of test data:  length of original data divided by k folds\n",
    "    print('Length of test data is {}'.format(part))\n",
    "    error = []\n",
    "    part2 = 0\n",
    "    while part2 < len(x_range):\n",
    "        part2 = part2 + part \n",
    "        xTest = x_range[(part2-part):part2]\n",
    "        xTrain = np.delete(x_range,xTest) \n",
    "        yTest = y[(part2-part):part2]\n",
    "        yTrain = np.delete(y, yTest)\n",
    "        est = opt.minimize(mseT, B, method = method)\n",
    "        pred = est['x'][0] +est['x'][1]*xTest\n",
    "        diff = np.sum((pred-yTest)**2)/len(yTest)\n",
    "        error.append(diff)\n",
    "    error = np.array(error)\n",
    "    return np.sum(error**2)/k\n"
   ]
  },
  {
   "cell_type": "code",
   "execution_count": 463,
   "metadata": {
    "scrolled": false
   },
   "outputs": [
    {
     "name": "stdout",
     "output_type": "stream",
     "text": [
      "Length of test data is 10\n"
     ]
    },
    {
     "name": "stderr",
     "output_type": "stream",
     "text": [
      "C:\\Users\\a0025105\\AppData\\Local\\Continuum\\anaconda3\\lib\\site-packages\\ipykernel_launcher.py:13: DeprecationWarning: using a non-integer array as obj in delete will result in an error in the future\n",
      "  del sys.path[0]\n"
     ]
    },
    {
     "data": {
      "text/plain": [
       "0.009525217766182115"
      ]
     },
     "execution_count": 463,
     "metadata": {},
     "output_type": "execute_result"
    }
   ],
   "source": [
    "kFoldCV(10,'BFGS')"
   ]
  }
 ],
 "metadata": {
  "kernelspec": {
   "display_name": "Python 3",
   "language": "python",
   "name": "python3"
  },
  "language_info": {
   "codemirror_mode": {
    "name": "ipython",
    "version": 3
   },
   "file_extension": ".py",
   "mimetype": "text/x-python",
   "name": "python",
   "nbconvert_exporter": "python",
   "pygments_lexer": "ipython3",
   "version": "3.6.5"
  }
 },
 "nbformat": 4,
 "nbformat_minor": 2
}
