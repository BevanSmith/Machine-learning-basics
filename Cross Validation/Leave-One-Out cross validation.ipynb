{
 "cells": [
  {
   "cell_type": "markdown",
   "metadata": {},
   "source": [
    "# The aim of this notebook:  code some basic cross-validation techniques from scratch\n",
    "1. First I will look at Leave-One-Out cross validation and then\n",
    "2. I will look at Leave-P-out cross validation, where the user can specify what sample percentage they would like as the test\n",
    "data"
   ]
  },
  {
   "cell_type": "markdown",
   "metadata": {},
   "source": [
    "##  Import the modules. \n",
    "It is important to import **numpy** and **scipy.optimize**"
   ]
  },
  {
   "cell_type": "code",
   "execution_count": 42,
   "metadata": {},
   "outputs": [],
   "source": [
    "import numpy as np\n",
    "import matplotlib.pyplot as plt\n",
    "import scipy.optimize as opt"
   ]
  },
  {
   "cell_type": "markdown",
   "metadata": {},
   "source": [
    "##  Generate the dummy data set (x range) \n"
   ]
  },
  {
   "cell_type": "code",
   "execution_count": 102,
   "metadata": {
    "scrolled": true
   },
   "outputs": [
    {
     "data": {
      "image/png": "[encoded data removed]",
      "text/plain": [
       "<Figure size 432x288 with 1 Axes>"
      ]
     },
     "metadata": {},
     "output_type": "display_data"
    }
   ],
   "source": [
    "x_range = np.arange(0,30,1)\n",
    "y = x_range +np.random.rand(len(x_range))  ## Here I have added random noise onto the straight line data\n",
    "plt.plot(x_range, y, 'k+')\n",
    "plt.xlabel('Inputs'); plt.ylabel('Target')\n",
    "n = len(x_range)"
   ]
  },
  {
   "cell_type": "code",
   "execution_count": 103,
   "metadata": {},
   "outputs": [],
   "source": [
    "# This first function calculates the mean squared error from the original data set in order to plot a line on the total original\n",
    "#  dataset\n",
    "def mse(B):\n",
    "    me = np.array(B[0]+B[1]*x_range-y)\n",
    "    return np.sum(me**2)\n",
    "\n",
    "# This function calculates the mean squared error of a reduced dataset which will be used in the cross-validation section\n",
    "def mse2(B):\n",
    "    me = np.array(B[0] + B[1]*x_temp - y_temp)\n",
    "    return np.sum(me**2)"
   ]
  },
  {
   "cell_type": "markdown",
   "metadata": {},
   "source": [
    "## Next we need to minimize the mse by using opt.minimize\n",
    "Remember that in a basic sense, when trying to fit a line to data points, we are trying to find coefficients of a line that results in a line that best fits the data.  So we are moving through the coefficient SPACE i.e. modifying the coefficents (b0 and b1) in order to find the smallest error between the line and the data points.\n",
    "\n",
    "We use the scipy.optimize.minimize function and you can select various optimizers such as Nelder-Mead."
   ]
  },
  {
   "cell_type": "code",
   "execution_count": 71,
   "metadata": {
    "scrolled": true
   },
   "outputs": [
    {
     "name": "stdout",
     "output_type": "stream",
     "text": [
      " final_simplex: (array([[0.51644977, 0.99701316],\n",
      "       [0.51653861, 0.9970028 ],\n",
      "       [0.51635076, 0.99701129]]), array([2.04240292, 2.04240313, 2.04240323]))\n",
      "           fun: 2.042402919377755\n",
      "       message: 'Optimization terminated successfully.'\n",
      "          nfev: 69\n",
      "           nit: 37\n",
      "        status: 0\n",
      "       success: True\n",
      "             x: array([0.51644977, 0.99701316])\n"
     ]
    }
   ],
   "source": [
    "B = [1,1]\n",
    "estimate = opt.minimize(mse,B, method='Nelder-Mead')\n",
    "print(estimate)"
   ]
  },
  {
   "cell_type": "markdown",
   "metadata": {},
   "source": [
    "## Next we see visually how the line matches the original data"
   ]
  },
  {
   "cell_type": "code",
   "execution_count": 72,
   "metadata": {},
   "outputs": [
    {
     "data": {
      "text/plain": [
       "[<matplotlib.lines.Line2D at 0xa9cb208>]"
      ]
     },
     "execution_count": 72,
     "metadata": {},
     "output_type": "execute_result"
    },
    {
     "data": {
      "image/png": "[encoded data removed]",
      "text/plain": [
       "<Figure size 432x288 with 1 Axes>"
      ]
     },
     "metadata": {},
     "output_type": "display_data"
    }
   ],
   "source": [
    "plt.plot(x_range,estimate['x'][1]*x_range+estimate['x'][0],'b-')\n",
    "plt.plot(x_range, y, 'ko')\n"
   ]
  },
  {
   "cell_type": "markdown",
   "metadata": {},
   "source": [
    "##  Leave one out cross validation\n",
    "With leave one out cross validation, we leave one data point out of the set and then use the remaining data to fit a line.  Then we use the fitted line to predict what the left out data point is and find the error between the predicted value and the actual value.  We then do this for all the points and add up all the errors and then divide by the total data points.  This is the mean squared error = 1/n*(y-ypred)^2.  \n",
    "\n",
    "This allows us to compare different models such as linear regression, non-linear regression, etc. and find which model results in the lowest error."
   ]
  },
  {
   "cell_type": "code",
   "execution_count": 108,
   "metadata": {},
   "outputs": [
    {
     "name": "stdout",
     "output_type": "stream",
     "text": [
      "0.00012969193858573488\n"
     ]
    }
   ],
   "source": [
    "valError = []\n",
    "error  = 0\n",
    "for i in range(len(x_range)):\n",
    "    x_temp = np.delete(x_range, i)  # Create a temp x-set by deleting the ith x data point\n",
    "    y_temp = np.delete(y,i)  # create a temp y-data set by deleting the ith y data point\n",
    "    est = opt.minimize(mse2,B, method='Nelder-Mead')  # find the coefficients that minimize the error for the remaining \n",
    "    # data points\n",
    "    pred = est['x'][0] + est['x'][1]*x_range[i]  # fit aline, generate a function with the new coefficients\n",
    "    residual = pred- y[i]  # calculate the residual between the predicted value and the actual y\n",
    "    error = error + residual  # add up each error for every iteration\n",
    "    squaredError  = error**2  # squared error\n",
    "    valError.append(squaredError)\n",
    "\n",
    "MSE = squaredError/(len(x_range))  # calculate the mean of the squared error\n",
    "print(MSE)\n"
   ]
  },
  {
   "cell_type": "code",
   "execution_count": 107,
   "metadata": {},
   "outputs": [
    {
     "name": "stdout",
     "output_type": "stream",
     "text": [
      "0.0001295557320310816\n"
     ]
    }
   ],
   "source": [
    "valError = []\n",
    "error  = 0\n",
    "for i in range(len(x_range)):\n",
    "    x_temp = np.delete(x_range, i)  # Create a temp x-set by deleting the ith x data point\n",
    "    y_temp = np.delete(y,i)  # create a temp y-data set by deleting the ith y data point\n",
    "    est = opt.minimize(mse2,B, method='BFGS')  # find the coefficients that minimize the error for the remaining \n",
    "    # data points\n",
    "    pred = est['x'][0] + est['x'][1]*x_range[i]  # fit aline, generate a function with the new coefficients\n",
    "    residual = pred- y[i]  # calculate the residual between the predicted value and the actual y\n",
    "    error = error + residual  # add up each error for every iteration\n",
    "    squaredError  = error**2  # squared error\n",
    "    valError.append(squaredError/len(x_range))\n",
    "\n",
    "MSE = squaredError/(len(x_range))  # calculate the mean of the squared error\n",
    "print(MSE)\n"
   ]
  }
 ],
 "metadata": {
  "kernelspec": {
   "display_name": "Python 3",
   "language": "python",
   "name": "python3"
  },
  "language_info": {
   "codemirror_mode": {
    "name": "ipython",
    "version": 3
   },
   "file_extension": ".py",
   "mimetype": "text/x-python",
   "name": "python",
   "nbconvert_exporter": "python",
   "pygments_lexer": "ipython3",
   "version": "3.6.5"
  }
 },
 "nbformat": 4,
 "nbformat_minor": 2
}
